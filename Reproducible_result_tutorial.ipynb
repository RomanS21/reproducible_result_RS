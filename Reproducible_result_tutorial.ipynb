{
 "cells": [
  {
   "cell_type": "code",
   "execution_count": 159,
   "id": "9bc9d9d9",
   "metadata": {},
   "outputs": [],
   "source": [
    "from ase.io import read, write \n",
    "from ase import atoms \n",
    "from ase.io.vasp import read_vasp\n",
    "from ase.visualize import view\n",
    "from ase.md.velocitydistribution import MaxwellBoltzmannDistribution\n",
    "import random\n",
    "import numpy as np\n",
    "from ase.md import MDLogger\n",
    "from ase.md.npt import NPT\n",
    "from ase import units\n",
    "from mace.calculators import mace_mp, MACECalculator\n",
    "from tqdm import tqdm\n",
    "from ase.md.analysis import DiffusionCoefficient\n",
    "import os\n",
    "import matplotlib.pyplot as plt\n",
    "from ase.build import make_supercell\n",
    "from ase.optimize import LBFGS\n",
    "from ase.constraints import UnitCellFilter"
   ]
  },
  {
   "cell_type": "code",
   "execution_count": 3,
   "id": "cb36f24f",
   "metadata": {},
   "outputs": [],
   "source": [
    "import utils.diff_coeff as diff"
   ]
  },
  {
   "cell_type": "markdown",
   "id": "da98bcd2",
   "metadata": {},
   "source": [
    "# About the notebook\n",
    "In this notebook, you will get a small introduction into how you can launch and use the MACE-MP-0 calculator to run Nose-Hoover NVT Molecular Dynamics."
   ]
  },
  {
   "cell_type": "markdown",
   "id": "6c80a2cd",
   "metadata": {},
   "source": [
    "# 1.1) Atoms Object\n",
    "In this first step, lets first begin by visualising the g-Li3PS4 structure"
   ]
  },
  {
   "cell_type": "code",
   "execution_count": 8,
   "id": "832afd66",
   "metadata": {},
   "outputs": [
    {
     "data": {
      "application/vnd.jupyter.widget-view+json": {
       "model_id": "ba6a6cd94edd4d9fb8462de5855d0c3e",
       "version_major": 2,
       "version_minor": 0
      },
      "text/plain": []
     },
     "metadata": {},
     "output_type": "display_data"
    },
    {
     "data": {
      "application/vnd.jupyter.widget-view+json": {
       "model_id": "d9e0579e31694c0181d7c265499e29c6",
       "version_major": 2,
       "version_minor": 0
      },
      "text/plain": [
       "HBox(children=(NGLWidget(), VBox(children=(Dropdown(description='Show', options=('All', 'Li', 'P', 'S'), value…"
      ]
     },
     "metadata": {},
     "output_type": "display_data"
    }
   ],
   "source": [
    "g_li3ps4 = read('g_li3ps4.xyz')\n",
    "view(g_li3ps4, viewer='ngl')"
   ]
  },
  {
   "cell_type": "markdown",
   "id": "dab69033",
   "metadata": {},
   "source": [
    "# 1.2) MACE-MP-0 Calculator\n",
    "In this next step, we will initialise the MACE-MP0-0 calculator. MACE provides 2 calculators the 'mace_mp' and the MACECalculator, the first is spcecific to launching the MACE-MP-0 models and is what we will be using today. Whit the second calculator any MACE model can be used, this includes the MACE-MP-0 models. In the program you will use later, both are implemented"
   ]
  },
  {
   "cell_type": "code",
   "execution_count": 9,
   "id": "34a50191",
   "metadata": {},
   "outputs": [
    {
     "name": "stdout",
     "output_type": "stream",
     "text": [
      "Using Materials Project MACE for MACECalculator with /home/chem/msufwc/.cache/mace/46jrkm3v\n",
      "Using float32 for MACECalculator, which is faster but less accurate. Recommended for MD. Use float64 for geometry optimization.\n",
      "Default dtype float32 does not match model dtype float64, converting models to float32.\n"
     ]
    }
   ],
   "source": [
    "from mace.calculators import mace_mp, MACECalculator\n",
    "\n",
    "\n",
    "#MACE-MP-0 calculator parameters\n",
    "\n",
    "model = 'small' # defines the MACE-MP-0 model that is to be used small, medium or large\n",
    "device = 'cpu'  # states what to use for calculation cpu or cuda, for gpu\n",
    "default_dtype = 'float32' # defines the dtype for the calculation float32 or float64. \n",
    "                          # float32 is less accurate but faster\n",
    "\n",
    "\n",
    "\n",
    "calc = mace_mp(model=model, device=device, default_dtype=default_dtype)"
   ]
  },
  {
   "cell_type": "markdown",
   "id": "88a00099",
   "metadata": {},
   "source": [
    "# 1.3) Nose-Hoover NVT Molecular Dynamics\n",
    "We can then attach this calculator to our structure and run some NVT MD. In the provided program, only Nose-Hoover NVT is supported and all parameters are representative of this choice. The provided program exploits ASE's Nose-Hoover implementation which is actually an ASE NPT model that has the barostat disabled. The program disables this by default but this can be modified, and NPT dynamics run by modifying the mace_nvt.py file to include a barostat."
   ]
  },
  {
   "cell_type": "code",
   "execution_count": 16,
   "id": "b41e81d7",
   "metadata": {},
   "outputs": [
    {
     "name": "stderr",
     "output_type": "stream",
     "text": [
      "WARNING: NPT: Setting the center-of-mass momentum to zero (was -9.37012 7.59435 6.61434)\n"
     ]
    }
   ],
   "source": [
    "g_li3ps4.calc = calc\n",
    "\n",
    "\n",
    "# NVT molecular dynamics input parameters\n",
    "temp = 800 # temperature to run the MD at\n",
    "ts = 2*units.fs # timestep of the MD\n",
    "tts = 80*units.fs # characteristic timestep of the thermostast, a good value is 40*time step\n",
    "step = 10 # number of MD steps to simulate\n",
    "\n",
    "\n",
    "\n",
    "\n",
    "# defines file to save the trajectory, time, and temperature too\n",
    "temp_arr = []\n",
    "time_arr = []\n",
    "\n",
    "def write_frame():\n",
    "    dyn.atoms.write('test_mace_md.xyz', append=True)\n",
    "    time_arr.append(dyn.get_time())\n",
    "    temp_arr.append(dyn.atoms.get_temperature())\n",
    "## initialise the MD\n",
    "MaxwellBoltzmannDistribution(g_li3ps4, temperature_K=temp)\n",
    "dyn = NPT(g_li3ps4, externalstress=1., timestep =ts, ttime=tts, temperature_K=temp)\n",
    "dyn.attach(write_frame, interval=1)\n",
    "\n",
    "## run MD\n",
    "dyn.run(int(step))\n",
    "\n",
    "f = open('test_mace_md_temp.txt', 'w')\n",
    "\n",
    "for i in range(len(temp_arr)):\n",
    "    f.write(str(time_arr[i]) + ' ' + str(temp_arr[i]) + '\\n')\n",
    "f.close()\n",
    "\n",
    "\n"
   ]
  },
  {
   "cell_type": "markdown",
   "id": "13199f48",
   "metadata": {},
   "source": [
    "# 1.4) Diffusion constant\n",
    "From this MD, we can then extract a diffusion constant. This is done by calculating the Mean Square Displacement and then the gradient of the resulting plot. This value is what we will later plot and calculate"
   ]
  },
  {
   "cell_type": "code",
   "execution_count": 18,
   "id": "4381f6c3",
   "metadata": {},
   "outputs": [
    {
     "name": "stdout",
     "output_type": "stream",
     "text": [
      "The diffusion coefficient at 800 K was: 2.369005451245663e-05 cm^2/S\n"
     ]
    }
   ],
   "source": [
    "trajectory = read('test_mace_md.xyz', index = ':')\n",
    "ts = 2*units.fs # timestep of the MD\n",
    "atom = 'Li' # atom to calculate the diffusion constant for\n",
    "start = 0 # which frame of the trajectory to start calcualting from, can be used to ignore the initial equilibration\n",
    "diffusion_coeff = diff.get_diffusion_coeff(trajectory, timestep=ts, atom=atom, start=start)\n",
    "print('The diffusion coefficient at',temp,'K was:', diffusion_coeff,'cm^2/S')"
   ]
  },
  {
   "cell_type": "markdown",
   "id": "465c3dc4",
   "metadata": {},
   "source": [
    "# 2) Diff_Coeff\n",
    "In this next section, you will use the diff_coeff.py file that is found in utils to run MD using MACE-MP-0. The aim is to run it for multiple temperatures with multiple repeats at each temperature. This will allow us to calculate an average temperature, with errors, and extrapolate to a room temperature diffusion constant, while proppogating the errors."
   ]
  },
  {
   "cell_type": "markdown",
   "id": "f0c193b2",
   "metadata": {},
   "source": [
    "# 2.1 Basic Script\n",
    "The first place to start is the diffusion_plot() function found in diff_coeff.py. This function automates the running, caclculation and extrapolation of dissplacement constants and serves as an example of how to set up the system."
   ]
  },
  {
   "cell_type": "code",
   "execution_count": 19,
   "id": "bca9315b",
   "metadata": {},
   "outputs": [],
   "source": [
    "def diffusion_plot(structure_file,temp_arr=[525], repeats=5, ts=2*units.fs, tts=80*units.fs, step=100, atom='Li', start=0, model='medium', floats='float32'):\n",
    "    #set up and run the md, in this case the paralel cpu implementation\n",
    "    diff.run_md_bash(structure, temp_arr, repeats, ts, tts, step, model, floats)\n",
    "    \n",
    "    #read in the diffusion coefficients from the generated files\n",
    "    dict_diff_coeff = diff.extract_diff_coeff(temp_arr, repeats, atom, start, ts)\n",
    "    \n",
    "    #plot the diffusion constants and extract the coefficients, covarience \n",
    "    coefficients,cov = diff.plot_average_diff_coeff(dict_diff_coeff)\n",
    "    return coefficients, dict_diff_coeff,cov\n"
   ]
  },
  {
   "cell_type": "code",
   "execution_count": 20,
   "id": "bc649dec",
   "metadata": {},
   "outputs": [
    {
     "data": {
      "image/png": "[encoded data removed]",
      "text/plain": [
       "<Figure size 432x288 with 1 Axes>"
      ]
     },
     "metadata": {
      "needs_background": "light"
     },
     "output_type": "display_data"
    },
    {
     "name": "stdout",
     "output_type": "stream",
     "text": [
      "The estimated room temperature difussion coefficient  -9.994372044189332e-06  +-  2.400373442689254e-06  cm2/s\n"
     ]
    }
   ],
   "source": [
    "# using the function found in diff_coeff.py to run all the MD\n",
    "# and extract the diffusion constants\n",
    "# here we run at high temperatures to avoid file clashes with later steps\n",
    "# where we will use temperatures 800-1400K\n",
    "coefficients,dict_diff_coeff,cov = diff.diffusion_plot(\n",
    "    structure_file='g_li3ps4.xyz',\n",
    "    temp_arr=[1600,1800,2000], \n",
    "    repeats=5, \n",
    "    ts=2*units.fs, \n",
    "    tts=80*units.fs, \n",
    "    step=10, \n",
    "    atom='Li', \n",
    "    start=0, \n",
    "    model='small', \n",
    "    floats='float32',\n",
    "    device='cpu'\n",
    "    )\n",
    "\n",
    "\n",
    "# a function that extrapolates the room temperature diffusion constant\n",
    "# given the line on best fit and the covarience matrix of the fitted\n",
    "# data in the above step\n",
    "room_diff_coeff,err = diff.room_temp_diff_coeff(coefficients, cov ,300)\n",
    "print('The estimated room temperature difussion coefficient ', room_diff_coeff,' +- ',err,' cm2/s')"
   ]
  },
  {
   "cell_type": "markdown",
   "id": "7b74bcad",
   "metadata": {},
   "source": [
    "# 2.2 Parameters\n",
    "When defining your diffusion plot function, ie a function that brings together the many functions found in diff_coeff.py, there are some options.\n",
    "\n",
    "The first of this is how you run the MD\n",
    "You have an option of run_md_bash or run_md. the run md option will simply run the vairous temperatures and repeats sequentially, this is good for GPUs where the calculations will use the whole GPU and will run faster. run_md_bash works by first making a bash script that attempts to launch all temperature and repeats at the same time. This is well suited to cpu where MACE can only use one core, this in effect allows us to parallelise calculations\n",
    "\n",
    "\n",
    "Following this, we also have a choice in what you wish to plot, the choice here is between plot_average_diff_coeff and plot_diff_coeff. plot_diff_coeff will plot all calculated diffusion constants, and plot_average_diff_coeff will plot the average diffusion constant at a given temperature, with error bars to represent the stnadard deviation. Both will calculate a line of best fit and output the coefficients and the covariance matrix."
   ]
  },
  {
   "cell_type": "markdown",
   "id": "0d7a59b9",
   "metadata": {},
   "source": [
    "## Good To Know\n",
    "feel free to play around with some of the parameters but keep in mind that making the models larger will make them more expensive. another consideration for evaluation on hetmathsys is that there are only 40 cores available, as such the length of your temperature array * the number of repitions should ideally be below 40 as the runs will be launched at the same time and will each require 1 cpu. In the case that you want to do more than 40 total calculations this is possible by splitting up the calculations like shown below"
   ]
  },
  {
   "cell_type": "code",
   "execution_count": null,
   "id": "6da47e44",
   "metadata": {},
   "outputs": [],
   "source": [
    "structure_file='g_li3ps4.xyz'\n",
    "repeats=10\n",
    "ts=2*units.fs\n",
    "tts=80*units.fs \n",
    "step=10\n",
    "atom='Li'\n",
    "start=0\n",
    "model='small'\n",
    "floats='float32'\n",
    "device='cpu'\n",
    "\n",
    "\n",
    "\n",
    "#set up and run the md, in this case the paralel cpu implementation\n",
    "\n",
    "temp_arr=[100,200,300,400]\n",
    "diff.run_md_bash(structure_file, temp_arr, repeats, ts, tts, step, model, floats, device)\n",
    "\n",
    "temp_arr=[500,600,700,800]\n",
    "diff.run_md_bash(structure_file, temp_arr, repeats, ts, tts, step, model, floats, device)\n",
    "\n",
    "\n",
    "\n",
    "#read in the diffusion coefficients from the generated files\n",
    "temp_arr=[100,200,300,400,500,600,700,800]\n",
    "dict_diff_coeff = diff.extract_diff_coeff(temp_arr, repeats, atom, start, ts)\n",
    "\n",
    "#plot the diffusion constants and extract the coefficients, covarience \n",
    "coefficients,cov = diff.plot_average_diff_coeff(dict_diff_coeff)\n",
    "\n",
    "room_diff_coeff,err = diff.room_temp_diff_coeff(coefficients, cov ,300)\n",
    "print('The estimated room temperature difussion coefficient ', room_diff_coeff,' +- ',err,' cm2/s')"
   ]
  },
  {
   "cell_type": "markdown",
   "id": "18faab3c",
   "metadata": {},
   "source": [
    "you can see above that for the calculations we can give multiple sets of arrays to each run, and combine the temperature arrays when we come to extracting the coefficients. this is because when the MD is run, it is saved to a file name including the temperature and repetition. For this to work you need to ensure number of repitions is consistent in each run. note that running the simulation again will overwrite the saved trajectory files."
   ]
  },
  {
   "cell_type": "markdown",
   "id": "c58af70a",
   "metadata": {},
   "source": [
    "# 2.3 Reproducible Result Run\n",
    "Finally for the reproducible result, you are welcome to experiment with some parameters, you should do 1 production run at 800K,1000K,1200K and 1400K. using 5 repitions and 10,000 steps per MD. from this you should plot the graph of the diffusion constants and extract the diffusion constant at 300K compare this to a precalculated value made using the same parameters. The other paremeters are specified below."
   ]
  },
  {
   "cell_type": "code",
   "execution_count": null,
   "id": "a812e2d2",
   "metadata": {},
   "outputs": [],
   "source": [
    "coefficients,dict_diff_coeff,cov = diff.diffusion_plot(\n",
    "    structure_file='g_li3ps4.xyz',\n",
    "    temp_arr=[800,1000,1200,1400], \n",
    "    repeats=5, \n",
    "    ts=2*units.fs, \n",
    "    tts=80*units.fs, \n",
    "    step=10000, \n",
    "    atom='Li', \n",
    "    start=0, \n",
    "    model='medium', \n",
    "    floats='float32',\n",
    "    device='cpu'\n",
    "    )\n",
    "\n",
    "room_diff_coeff,err = diff.room_temp_diff_coeff(coefficients, cov ,300)\n",
    "print('The estimated room temperature difussion coefficient ', room_diff_coeff,' +- ',err,' cm2/s')"
   ]
  },
  {
   "cell_type": "markdown",
   "id": "072fafce",
   "metadata": {},
   "source": [
    "In the case that your calculations have already run and you wish to avoid rerunning use the following cells"
   ]
  },
  {
   "cell_type": "code",
   "execution_count": 5,
   "id": "ace0a023",
   "metadata": {},
   "outputs": [],
   "source": [
    "# same parameters as above\n",
    "structure_file='g_li3ps4.xyz'\n",
    "temp_arr=[800,1000,1200,1400]\n",
    "repeats=5\n",
    "ts=2*units.fs \n",
    "tts=80*units.fs \n",
    "step=10000\n",
    "atom='Li' \n",
    "start=0\n",
    "model='medium' \n",
    "floats='float32'\n",
    "device='cpu'\n",
    "\n",
    "#read in the diffusion coefficients from the generated files\n",
    "dict_diff_coeff = diff.extract_diff_coeff(temp_arr, repeats, atom, start, ts)"
   ]
  },
  {
   "cell_type": "code",
   "execution_count": 6,
   "id": "bc6bf89e",
   "metadata": {},
   "outputs": [
    {
     "data": {
      "image/png": "[encoded data removed]",
      "text/plain": [
       "<Figure size 432x288 with 1 Axes>"
      ]
     },
     "metadata": {
      "needs_background": "light"
     },
     "output_type": "display_data"
    },
    {
     "name": "stdout",
     "output_type": "stream",
     "text": [
      "The estimated room temperature difussion coefficient  -4.7295302687762855e-05  +-  9.946630496785827e-06  cm2/s\n"
     ]
    }
   ],
   "source": [
    "#plot the diffusion constants and extract the coefficients, covarience\n",
    "#this plot takes an average value at each temperatue and plots the standard deviation as the error bars\n",
    "coefficients,cov = diff.plot_average_diff_coeff(dict_diff_coeff)\n",
    "\n",
    "#extract the room temperature diffusion coefficient\n",
    "room_diff_coeff,err = diff.room_temp_diff_coeff(coefficients, cov ,300)\n",
    "print('The estimated room temperature difussion coefficient ', room_diff_coeff,' +- ',err,' cm2/s')"
   ]
  },
  {
   "cell_type": "code",
   "execution_count": 7,
   "id": "e09ba70e",
   "metadata": {},
   "outputs": [
    {
     "name": "stdout",
     "output_type": "stream",
     "text": [
      "[-2.44422848e-05  3.41789801e-05] [[ 8.62987235e-12 -8.19324191e-12]\n",
      " [-8.19324191e-12  8.12750273e-12]]\n"
     ]
    },
    {
     "data": {
      "image/png": "[encoded data removed]",
      "text/plain": [
       "<Figure size 432x288 with 1 Axes>"
      ]
     },
     "metadata": {
      "needs_background": "light"
     },
     "output_type": "display_data"
    },
    {
     "name": "stdout",
     "output_type": "stream",
     "text": [
      "The estimated room temperature difussion coefficient  -4.7295302687762855e-05  +-  9.946630496785827e-06  cm2/s\n"
     ]
    }
   ],
   "source": [
    "#plot the diffusion constants and extract the coefficients, covarience\n",
    "#this plot shows all calcualted diffusion constants\n",
    "coefficients,cov = diff.plot_diff_coeff(dict_diff_coeff)\n",
    "\n",
    "#extract the room temperature diffusion coefficient\n",
    "room_diff_coeff,err = diff.room_temp_diff_coeff(coefficients, cov ,300)\n",
    "print('The estimated room temperature difussion coefficient ', room_diff_coeff,' +- ',err,' cm2/s')"
   ]
  },
  {
   "cell_type": "markdown",
   "id": "ebb875ac",
   "metadata": {},
   "source": [
    "# Analysis of the result\n",
    "The precalculated extrapolated room temperature difussion coefficient was -4.7597e-05 cm^2/S  +-  1.0264e-05  cm^2/s\n",
    "\n",
    "\n",
    "You can see that the error on this is quite high, this could be improved with more repeats, a larger MACE-MP-0 model and longer trajectories. However it also shows MACE-MP-0s main limitation where the training set has no data on structures at non 0K temperatures and as such we do not expect it to perform perfectly.\n",
    "\n",
    "The experimental value that is quoted is typically on the 10^-7 order of magnitude. While we can see that we are not miles away we are certainly not close to that and MACE-MP-0 predicts higher mobility of the Lithium ions.\n",
    "\n",
    "Finally, this shows that despite limitations in the data set, it is remarkably stable. It also shows that for accurate results, this foundation model will need to be fine tuned to get more accurate results."
   ]
  },
  {
   "cell_type": "markdown",
   "id": "b7f56fe7",
   "metadata": {},
   "source": [
    "# Possible sources of error (size effects)\n",
    "A possible source of error is the size of the cell that is being examined, this becomes particularly important if you begin to look at interfaces between two bulk structures. This difference can be down to the missmatch between the lattice parameters of the two bulks. In the case of looking at one bulk, you can also see differences emerge in the density of the cell, this in turn can impact the energy and forces and as a result the diffusion constants associated with the system.\n",
    "\n",
    "A full investigation of the size effects on the diffusion constant would take too long to implement in this resproducible result but can be demostrated by doing geometry optimisations of various supercells of Li3PS4."
   ]
  },
  {
   "cell_type": "markdown",
   "id": "c6ff0364",
   "metadata": {},
   "source": [
    "# 3.1 Primitive cell \n",
    "Below you can see the primitive cell for Li3PS4, the cell and geometry has been optimised using VASP and the same conditions as the structure used previously. In this next section you are free to generate and run the geometry optimisation for various Li3PS4 supercells and see how that impacts the density and the energy per atom of the system."
   ]
  },
  {
   "cell_type": "code",
   "execution_count": 160,
   "id": "405ae772",
   "metadata": {},
   "outputs": [
    {
     "data": {
      "application/vnd.jupyter.widget-view+json": {
       "model_id": "6b35603c5ccb43da8d66ad8a038f675c",
       "version_major": 2,
       "version_minor": 0
      },
      "text/plain": [
       "HBox(children=(NGLWidget(), VBox(children=(Dropdown(description='Show', options=('All', 'Li', 'S', 'P'), value…"
      ]
     },
     "metadata": {},
     "output_type": "display_data"
    }
   ],
   "source": [
    "# read in the primitive cell\n",
    "prim = read('g_li3ps4_prim_opt.xyz')\n",
    "view(prim, viewer='ngl')"
   ]
  },
  {
   "cell_type": "code",
   "execution_count": 163,
   "id": "b1ba13fd",
   "metadata": {},
   "outputs": [
    {
     "name": "stdout",
     "output_type": "stream",
     "text": [
      "Using Materials Project MACE for MACECalculator with /home/chem/msufwc/.cache/mace/46jrkm3v\n",
      "Using float64 for MACECalculator, which is slower but more accurate. Recommended for geometry optimization.\n"
     ]
    }
   ],
   "source": [
    "# set up a mace mp calculator. here we use medium float 64 as for better accuracy \n",
    "# but you can switch to small float 32 if you need a faster system\n",
    "calc = mace_mp('small', default_dtype='float64', device='cpu')"
   ]
  },
  {
   "cell_type": "markdown",
   "id": "aee4bd4d",
   "metadata": {},
   "source": [
    "# 3.2 Geometry Optimisation\n",
    "Here you can make supercells, run geometry optimisations including cell relaxations and extract the densities. The default is to vary a to make supercells of repitions of (a,a,a). to vary them independantly uncomment the commented lines"
   ]
  },
  {
   "cell_type": "code",
   "execution_count": 164,
   "id": "b2c070fe",
   "metadata": {
    "scrolled": true
   },
   "outputs": [
    {
     "name": "stdout",
     "output_type": "stream",
     "text": [
      "       Step     Time          Energy         fmax\n",
      "*Force-consistent energies used in optimization.\n",
      "LBFGS:    0 17:11:48      -70.251369*       0.1422\n",
      "LBFGS:    1 17:11:49      -70.253406*       0.1340\n",
      "LBFGS:    2 17:11:49      -70.259281*       0.1135\n",
      "LBFGS:    3 17:11:49      -70.260742*       0.1368\n",
      "LBFGS:    4 17:11:49      -70.267848*       0.1828\n",
      "LBFGS:    5 17:11:50      -70.274328*       0.1501\n",
      "LBFGS:    6 17:11:50      -70.280381*       0.1306\n",
      "LBFGS:    7 17:11:50      -70.283054*       0.0982\n",
      "LBFGS:    8 17:11:50      -70.284913*       0.1036\n",
      "LBFGS:    9 17:11:51      -70.287351*       0.1145\n",
      "LBFGS:   10 17:11:51      -70.290120*       0.1216\n",
      "LBFGS:   11 17:11:51      -70.292745*       0.1259\n",
      "LBFGS:   12 17:11:51      -70.294620*       0.0822\n",
      "LBFGS:   13 17:11:51      -70.295632*       0.0783\n",
      "LBFGS:   14 17:11:52      -70.296186*       0.0622\n",
      "LBFGS:   15 17:11:52      -70.296538*       0.0427\n",
      "LBFGS:   16 17:11:52      -70.296899*       0.0661\n",
      "LBFGS:   17 17:11:52      -70.297433*       0.0756\n",
      "LBFGS:   18 17:11:53      -70.298000*       0.0562\n",
      "LBFGS:   19 17:11:53      -70.298309*       0.0238\n",
      "LBFGS:   20 17:11:53      -70.298395*       0.0133\n",
      "LBFGS:   21 17:11:53      -70.298431*       0.0133\n",
      "LBFGS:   22 17:11:53      -70.298484*       0.0152\n",
      "LBFGS:   23 17:11:54      -70.298576*       0.0222\n",
      "LBFGS:   24 17:11:54      -70.298688*       0.0268\n",
      "LBFGS:   25 17:11:54      -70.298773*       0.0237\n",
      "LBFGS:   26 17:11:54      -70.298816*       0.0153\n",
      "LBFGS:   27 17:11:55      -70.298841*       0.0106\n",
      "LBFGS:   28 17:11:55      -70.298868*       0.0117\n",
      "LBFGS:   29 17:11:55      -70.298901*       0.0137\n",
      "LBFGS:   30 17:11:55      -70.298945*       0.0204\n",
      "LBFGS:   31 17:11:55      -70.298998*       0.0217\n",
      "LBFGS:   32 17:11:56      -70.299051*       0.0162\n",
      "LBFGS:   33 17:11:56      -70.299087*       0.0109\n",
      "LBFGS:   34 17:11:56      -70.299107*       0.0108\n",
      "LBFGS:   35 17:11:56      -70.299126*       0.0103\n",
      "LBFGS:   36 17:11:57      -70.299159*       0.0122\n",
      "LBFGS:   37 17:11:57      -70.299211*       0.0131\n",
      "LBFGS:   38 17:11:57      -70.299266*       0.0107\n",
      "LBFGS:   39 17:11:57      -70.299296*       0.0077\n",
      "-4.393705991906485  ev/atom [[1, 0, 0], [0, 1, 0], [0, 0, 1]]\n",
      "       Step     Time          Energy         fmax\n",
      "*Force-consistent energies used in optimization.\n",
      "LBFGS:    0 17:11:59     -562.010951*       0.1422\n",
      "LBFGS:    1 17:12:01     -562.021709*       0.1359\n",
      "LBFGS:    2 17:12:03     -562.043842*       0.1247\n",
      "LBFGS:    3 17:12:04     -562.047594*       0.1224\n",
      "LBFGS:    4 17:12:06     -562.065672*       0.1124\n",
      "LBFGS:    5 17:12:08     -562.076585*       0.1100\n",
      "LBFGS:    6 17:12:10     -562.084709*       0.1169\n",
      "LBFGS:    7 17:12:11     -562.088930*       0.1251\n",
      "LBFGS:    8 17:12:13     -562.093983*       0.1304\n",
      "LBFGS:    9 17:12:15     -562.099909*       0.1380\n",
      "LBFGS:   10 17:12:17     -562.107433*       0.1439\n",
      "LBFGS:   11 17:12:18     -562.117123*       0.1432\n",
      "LBFGS:   12 17:12:20     -562.128667*       0.1335\n",
      "LBFGS:   13 17:12:22     -562.138769*       0.1184\n",
      "LBFGS:   14 17:12:24     -562.145931*       0.1061\n",
      "LBFGS:   15 17:12:26     -562.151831*       0.0990\n",
      "LBFGS:   16 17:12:27     -562.160080*       0.1203\n",
      "LBFGS:   17 17:12:29     -562.175615*       0.1652\n",
      "LBFGS:   18 17:12:31     -562.199474*       0.1698\n",
      "LBFGS:   19 17:12:33     -562.221325*       0.1016\n",
      "LBFGS:   20 17:12:35     -562.231138*       0.0812\n",
      "LBFGS:   21 17:12:36     -562.235663*       0.0799\n",
      "LBFGS:   22 17:12:38     -562.240995*       0.0767\n",
      "LBFGS:   23 17:12:40     -562.250661*       0.1078\n",
      "LBFGS:   24 17:12:42     -562.266218*       0.1436\n",
      "LBFGS:   25 17:12:43     -562.284389*       0.1489\n",
      "LBFGS:   26 17:12:45     -562.297985*       0.1120\n",
      "LBFGS:   27 17:12:47     -562.304738*       0.0638\n",
      "LBFGS:   28 17:12:49     -562.309256*       0.0646\n",
      "LBFGS:   29 17:12:51     -562.314940*       0.0742\n",
      "LBFGS:   30 17:12:52     -562.322194*       0.0794\n",
      "LBFGS:   31 17:12:54     -562.332046*       0.1164\n",
      "LBFGS:   32 17:12:56     -562.343902*       0.1243\n",
      "LBFGS:   33 17:12:58     -562.354264*       0.0942\n",
      "LBFGS:   34 17:12:59     -562.360097*       0.0545\n",
      "LBFGS:   35 17:13:01     -562.363217*       0.0480\n",
      "LBFGS:   36 17:13:03     -562.366319*       0.0500\n",
      "LBFGS:   37 17:13:05     -562.371046*       0.0547\n",
      "LBFGS:   38 17:13:07     -562.376537*       0.0497\n",
      "LBFGS:   39 17:13:08     -562.379928*       0.0292\n",
      "LBFGS:   40 17:13:10     -562.380931*       0.0157\n",
      "LBFGS:   41 17:13:12     -562.381297*       0.0145\n",
      "LBFGS:   42 17:13:14     -562.381839*       0.0153\n",
      "LBFGS:   43 17:13:16     -562.382933*       0.0249\n",
      "LBFGS:   44 17:13:17     -562.384574*       0.0297\n",
      "LBFGS:   45 17:13:19     -562.386054*       0.0224\n",
      "LBFGS:   46 17:13:21     -562.386742*       0.0166\n",
      "LBFGS:   47 17:13:23     -562.387026*       0.0161\n",
      "LBFGS:   48 17:13:25     -562.387359*       0.0146\n",
      "LBFGS:   49 17:13:26     -562.387989*       0.0184\n",
      "LBFGS:   50 17:13:28     -562.388828*       0.0198\n",
      "LBFGS:   51 17:13:30     -562.389453*       0.0119\n",
      "LBFGS:   52 17:13:32     -562.389687*       0.0113\n",
      "LBFGS:   53 17:13:33     -562.389785*       0.0113\n",
      "LBFGS:   54 17:13:35     -562.389927*       0.0113\n",
      "LBFGS:   55 17:13:37     -562.390222*       0.0116\n",
      "LBFGS:   56 17:13:39     -562.390669*       0.0140\n",
      "LBFGS:   57 17:13:41     -562.391060*       0.0112\n",
      "LBFGS:   58 17:13:42     -562.391207*       0.0113\n",
      "LBFGS:   59 17:13:44     -562.391234*       0.0113\n",
      "LBFGS:   60 17:13:46     -562.391247*       0.0114\n",
      "LBFGS:   61 17:13:48     -562.391280*       0.0114\n",
      "LBFGS:   62 17:13:50     -562.391340*       0.0115\n",
      "LBFGS:   63 17:13:51     -562.391430*       0.0117\n",
      "LBFGS:   64 17:13:53     -562.391500*       0.0118\n",
      "LBFGS:   65 17:13:55     -562.391527*       0.0117\n",
      "LBFGS:   66 17:13:57     -562.391535*       0.0117\n",
      "LBFGS:   67 17:13:58     -562.391547*       0.0117\n",
      "LBFGS:   68 17:14:00     -562.391577*       0.0115\n",
      "LBFGS:   69 17:14:02     -562.391653*       0.0113\n",
      "LBFGS:   70 17:14:04     -562.391846*       0.0108\n",
      "LBFGS:   71 17:14:06     -562.392313*       0.0134\n",
      "LBFGS:   72 17:14:07     -562.393310*       0.0188\n",
      "LBFGS:   73 17:14:09     -562.394811*       0.0200\n",
      "LBFGS:   74 17:14:11     -562.396237*       0.0152\n",
      "LBFGS:   75 17:14:13     -562.397063*       0.0061\n",
      "-4.393727053694645  ev/atom [[2, 0, 0], [0, 2, 0], [0, 0, 2]]\n",
      "       Step     Time          Energy         fmax\n",
      "*Force-consistent energies used in optimization.\n",
      "LBFGS:    0 17:14:19    -1896.786960*       0.1422\n",
      "LBFGS:    1 17:14:25    -1896.821374*       0.1361\n",
      "LBFGS:    2 17:14:31    -1896.888080*       0.1261\n",
      "LBFGS:    3 17:14:38    -1896.898222*       0.1242\n",
      "LBFGS:    4 17:14:44    -1896.944618*       0.1165\n",
      "LBFGS:    5 17:14:50    -1896.968134*       0.1158\n",
      "LBFGS:    6 17:14:56    -1896.983415*       0.1201\n",
      "LBFGS:    7 17:15:02    -1896.990754*       0.1258\n",
      "LBFGS:    8 17:15:09    -1896.999108*       0.1327\n",
      "LBFGS:    9 17:15:15    -1897.007261*       0.1386\n",
      "LBFGS:   10 17:15:21    -1897.016802*       0.1419\n",
      "LBFGS:   11 17:15:27    -1897.028515*       0.1413\n",
      "LBFGS:   12 17:15:33    -1897.041540*       0.1360\n",
      "LBFGS:   13 17:15:40    -1897.051585*       0.1289\n",
      "LBFGS:   14 17:15:46    -1897.057834*       0.1242\n",
      "LBFGS:   15 17:15:52    -1897.063298*       0.1220\n",
      "LBFGS:   16 17:15:58    -1897.072701*       0.1206\n",
      "LBFGS:   17 17:16:04    -1897.090316*       0.1205\n",
      "LBFGS:   18 17:16:11    -1897.115279*       0.1207\n",
      "LBFGS:   19 17:16:17    -1897.135494*       0.1221\n",
      "LBFGS:   20 17:16:23    -1897.144725*       0.1223\n",
      "LBFGS:   21 17:16:29    -1897.150162*       0.1214\n",
      "LBFGS:   22 17:16:35    -1897.158120*       0.1189\n",
      "LBFGS:   23 17:16:42    -1897.173016*       0.1135\n",
      "LBFGS:   24 17:16:48    -1897.196889*       0.1047\n",
      "LBFGS:   25 17:16:54    -1897.225066*       0.1069\n",
      "LBFGS:   26 17:17:00    -1897.247548*       0.0993\n",
      "LBFGS:   27 17:17:06    -1897.261299*       0.1043\n",
      "LBFGS:   28 17:17:13    -1897.272604*       0.1060\n",
      "LBFGS:   29 17:17:19    -1897.287501*       0.1045\n",
      "LBFGS:   30 17:17:25    -1897.309706*       0.1005\n",
      "LBFGS:   31 17:17:31    -1897.343406*       0.1262\n",
      "LBFGS:   32 17:17:37    -1897.377387*       0.1406\n",
      "LBFGS:   33 17:17:43    -1897.412243*       0.1387\n",
      "LBFGS:   34 17:17:50    -1897.446146*       0.1261\n",
      "LBFGS:   35 17:17:56    -1897.477198*       0.1068\n",
      "LBFGS:   36 17:18:02    -1897.504318*       0.0842\n"
     ]
    },
    {
     "name": "stdout",
     "output_type": "stream",
     "text": [
      "LBFGS:   37 17:18:08    -1897.527739*       0.0752\n",
      "LBFGS:   38 17:18:15    -1897.549090*       0.0746\n",
      "LBFGS:   39 17:18:21    -1897.570734*       0.0835\n",
      "LBFGS:   40 17:18:27    -1897.594533*       0.0908\n",
      "LBFGS:   41 17:18:33    -1897.621211*       0.0930\n",
      "LBFGS:   42 17:18:39    -1897.650529*       0.0899\n",
      "LBFGS:   43 17:18:46    -1897.681559*       0.0817\n",
      "LBFGS:   44 17:18:52    -1897.712758*       0.0783\n",
      "LBFGS:   45 17:18:58    -1897.741917*       0.0694\n",
      "LBFGS:   46 17:19:04    -1897.766045*       0.0501\n",
      "LBFGS:   47 17:19:11    -1897.779639*       0.0447\n",
      "LBFGS:   48 17:19:17    -1897.787924*       0.0467\n",
      "LBFGS:   49 17:19:23    -1897.807574*       0.0539\n",
      "LBFGS:   50 17:19:29    -1897.829121*       0.0658\n",
      "LBFGS:   51 17:19:36    -1897.862220*       0.0805\n",
      "LBFGS:   52 17:19:42    -1897.889053*       0.0682\n",
      "LBFGS:   53 17:19:48    -1897.906011*       0.0492\n",
      "LBFGS:   54 17:19:54    -1897.918471*       0.0378\n",
      "LBFGS:   55 17:20:00    -1897.928012*       0.0386\n",
      "LBFGS:   56 17:20:07    -1897.935898*       0.0387\n",
      "LBFGS:   57 17:20:13    -1897.943712*       0.0380\n",
      "LBFGS:   58 17:20:19    -1897.953332*       0.0402\n",
      "LBFGS:   59 17:20:25    -1897.966597*       0.0510\n",
      "LBFGS:   60 17:20:31    -1897.985476*       0.0551\n",
      "LBFGS:   61 17:20:38    -1898.006434*       0.0420\n",
      "LBFGS:   62 17:20:44    -1898.015377*       0.0312\n",
      "LBFGS:   63 17:20:50    -1898.021810*       0.0305\n",
      "LBFGS:   64 17:20:56    -1898.025665*       0.0284\n",
      "LBFGS:   65 17:21:02    -1898.033738*       0.0300\n",
      "LBFGS:   66 17:21:09    -1898.045431*       0.0364\n",
      "LBFGS:   67 17:21:15    -1898.056666*       0.0289\n",
      "LBFGS:   68 17:21:21    -1898.061336*       0.0173\n",
      "LBFGS:   69 17:21:27    -1898.063222*       0.0098\n",
      "-4.393664865698732  ev/atom [[3, 0, 0], [0, 3, 0], [0, 0, 3]]\n"
     ]
    }
   ],
   "source": [
    "a = 3\n",
    "b = 3\n",
    "c = 3\n",
    "len_atom = []\n",
    "energy_per_at = []\n",
    "volume_arr = []\n",
    "density_arr = []\n",
    "for i in range(a):\n",
    "#     for j in range(b):\n",
    "#         for k in range(c):\n",
    "            make = [[i+1,0,0],[0,i+1,0],[0,0,i+1]]\n",
    "#             make = [[i+1,0,0],[0,j+1,0],[0,0,k+1]]\n",
    "            super_cell = make_supercell(prim, make)\n",
    "            super_cell.calc = calc\n",
    "            sf = UnitCellFilter(super_cell)\n",
    "            dyn = LBFGS(sf)\n",
    "            dyn.run(fmax=0.01)\n",
    "            volume_arr.append(super_cell.cell.volume)\n",
    "            density_arr.append(len(super_cell)/super_cell.cell.volume)\n",
    "            energy = super_cell.get_potential_energy()\n",
    "            print(energy/len(super_cell), ' ev/atom', make)\n",
    "            len_atom.append(len(super_cell))\n",
    "            energy_per_at.append(energy/len(super_cell))\n"
   ]
  },
  {
   "cell_type": "code",
   "execution_count": 167,
   "id": "53a1e890",
   "metadata": {},
   "outputs": [],
   "source": [
    "density_arr = []\n",
    "for i in range(3):\n",
    "    density_arr.append(len_atom[i]/volume_arr[i])"
   ]
  },
  {
   "cell_type": "code",
   "execution_count": 168,
   "id": "4e063e06",
   "metadata": {},
   "outputs": [
    {
     "name": "stdout",
     "output_type": "stream",
     "text": [
      "16  atoms,  -4.393705991906485 eV/atom,  322.648195118725 A^3 volume,  0.049589615693069265 atoms/A^3 density \n",
      "128  atoms,  -4.393727053694645 eV/atom,  2579.5649956003012 A^3 volume,  0.049620769477922225 atoms/A^3 density \n",
      "432  atoms,  -4.393664865698732 eV/atom,  8707.834415846437 A^3 volume,  0.04961049778505783 atoms/A^3 density \n"
     ]
    }
   ],
   "source": [
    "# this will print a nice summary of the results \n",
    "for i in range(3):\n",
    "    print(len_atom[i],' atoms, ',energy_per_at[i],'eV/atom, ',volume_arr[i],'A^3 volume, ', density_arr[i], 'atoms/A^3 density ')\n"
   ]
  },
  {
   "cell_type": "markdown",
   "id": "389b6077",
   "metadata": {},
   "source": [
    "\n",
    "# 3.3 Summary\n",
    "\n",
    "Here is a list of values i have computed previously using an fmax of 0.01 with MACE-MP medium float64 for (1,1,1), (2,2,2), and (3,3,3) supercells.\n",
    "\n",
    "16  atoms,  -4.393117949388361 eV/atom,  325.4541311595248 A^3 volume,  0.04916207375520278 atoms/A^3 density \n",
    "\n",
    "128  atoms,  -4.393104722757153 eV/atom,  2603.196427284316 A^3 volume,  0.04917031948047464 atoms/A^3 density \n",
    "\n",
    "432  atoms,  -4.393089194773834 eV/atom,  8782.439280276862 A^3 volume,  0.04918906766257557 atoms/A^3 density \n",
    "\n",
    ".\n",
    "\n",
    ".\n",
    "\n",
    "\n",
    "Here is a list of values i have computed previously using an fmax of 0.01 with MACE-MP small float64 for (1,1,1), (2,2,2), and (3,3,3) supercells.\n",
    "\n",
    "16  atoms,  -4.393705991906485 eV/atom,  322.648195118725 A^3 volume,  0.049589615693069265 atoms/A^3 density \n",
    "\n",
    "128  atoms,  -4.393727053694645 eV/atom,  2579.5649956003012 A^3 volume,  0.049620769477922225 atoms/A^3 density \n",
    "\n",
    "432  atoms,  -4.393664865698732 eV/atom,  8707.834415846437 A^3 volume,  0.04961049778505783 atoms/A^3 density \n",
    "\n",
    " \n",
    ".\n",
    "\n",
    ".\n",
    "\n",
    "\n",
    "As you can see the systems get progresively more dense as the supercell increases in size. This could be explained by the fact that in these larger system there are more atoms free to move indendantly, as opposed to smaller cells where preriodic boundary conditions mean that way atoms can move is more correlated. Since the density changes, this will be result in changes in the \"bond lengths\" seen in the system meaning that each atom sits in a new enviroment and will have a different energy and force. This is a big limitation in simulations as larger systems are more costly to simulate.\n",
    "\n",
    "\n",
    "You can also see that depending on the model used, increasing in size of the model, the density and energy, and therefore diffusion constant changes. This error is hard to quantify in terms of the error in the weights involved the foundation model however differences in the diffusion contsant can de demostrated in the above code by changing the specified calculator."
   ]
  },
  {
   "cell_type": "markdown",
   "id": "f30a7eac",
   "metadata": {},
   "source": [
    "There are also other parameters that will affect the error in the diffusion constant that are equally hard to investigate in this format. This includes the DFT paramters used to generate the training set, such as the energy cutoff the K-point sampling density and the functional used. This will impact how converged the calculated, and therefore predicted values are in the MLIP, however there is not enough time to do convergence tests and model training. Furthermore, parameters affecting the size of the model beyond the level of the message pass will also affect the accuracy of how well the MLIP reproduces the DFT data. "
   ]
  }
 ],
 "metadata": {
  "kernelspec": {
   "display_name": "Python 3 (ipykernel)",
   "language": "python",
   "name": "python3"
  },
  "language_info": {
   "codemirror_mode": {
    "name": "ipython",
    "version": 3
   },
   "file_extension": ".py",
   "mimetype": "text/x-python",
   "name": "python",
   "nbconvert_exporter": "python",
   "pygments_lexer": "ipython3",
   "version": "3.10.4"
  }
 },
 "nbformat": 4,
 "nbformat_minor": 5
}
