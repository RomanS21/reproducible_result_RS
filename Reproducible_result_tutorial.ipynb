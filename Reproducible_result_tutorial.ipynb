{
 "cells": [
  {
   "cell_type": "code",
   "execution_count": 1,
   "id": "9bc9d9d9",
   "metadata": {},
   "outputs": [],
   "source": [
    "from ase.io import read, write \n",
    "from ase import atoms \n",
    "from ase.io.vasp import read_vasp\n",
    "from ase.visualize import view\n",
    "from ase.md.velocitydistribution import MaxwellBoltzmannDistribution\n",
    "import random\n",
    "import numpy as np\n",
    "from ase.md import MDLogger\n",
    "from ase.md.npt import NPT\n",
    "from ase import units\n",
    "from mace.calculators import mace_mp, MACECalculator\n",
    "from tqdm import tqdm\n",
    "from ase.md.analysis import DiffusionCoefficient\n",
    "import os\n",
    "import matplotlib.pyplot as plt"
   ]
  },
  {
   "cell_type": "code",
   "execution_count": 2,
   "id": "cb36f24f",
   "metadata": {},
   "outputs": [],
   "source": [
    "import utils.diff_coeff as diff"
   ]
  },
  {
   "cell_type": "markdown",
   "id": "da98bcd2",
   "metadata": {},
   "source": [
    "# About the notebook\n",
    "In this notebook, you will get a small introduction into how you can launch and use the MACE-MP-0 calculator to run Nose-Hoover NVT Molecular Dynamics."
   ]
  },
  {
   "cell_type": "markdown",
   "id": "6c80a2cd",
   "metadata": {},
   "source": [
    "# 1.1) Atoms Object\n",
    "In this first step, lets first begin by visualising the g-Li3PS4 structure"
   ]
  },
  {
   "cell_type": "code",
   "execution_count": 8,
   "id": "832afd66",
   "metadata": {},
   "outputs": [
    {
     "data": {
      "application/vnd.jupyter.widget-view+json": {
       "model_id": "ba6a6cd94edd4d9fb8462de5855d0c3e",
       "version_major": 2,
       "version_minor": 0
      },
      "text/plain": []
     },
     "metadata": {},
     "output_type": "display_data"
    },
    {
     "data": {
      "application/vnd.jupyter.widget-view+json": {
       "model_id": "d9e0579e31694c0181d7c265499e29c6",
       "version_major": 2,
       "version_minor": 0
      },
      "text/plain": [
       "HBox(children=(NGLWidget(), VBox(children=(Dropdown(description='Show', options=('All', 'Li', 'P', 'S'), value…"
      ]
     },
     "metadata": {},
     "output_type": "display_data"
    }
   ],
   "source": [
    "g_li3ps4 = read('g_li3ps4.xyz')\n",
    "view(g_li3ps4, viewer='ngl')"
   ]
  },
  {
   "cell_type": "markdown",
   "id": "dab69033",
   "metadata": {},
   "source": [
    "# 1.2) MACE-MP-0 Calculator\n",
    "In this next step, we will initialise the MACE-MP0-0 calculator. MACE provides 2 calculators the 'mace_mp' and the MACECalculator, the first is spcecific to launching the MACE-MP-0 models and is what we will be using today. Whit the second calculator any MACE model can be used, this includes the MACE-MP-0 models. In the program you will use later, both are implemented"
   ]
  },
  {
   "cell_type": "code",
   "execution_count": 9,
   "id": "34a50191",
   "metadata": {},
   "outputs": [
    {
     "name": "stdout",
     "output_type": "stream",
     "text": [
      "Using Materials Project MACE for MACECalculator with /home/chem/msufwc/.cache/mace/46jrkm3v\n",
      "Using float32 for MACECalculator, which is faster but less accurate. Recommended for MD. Use float64 for geometry optimization.\n",
      "Default dtype float32 does not match model dtype float64, converting models to float32.\n"
     ]
    }
   ],
   "source": [
    "from mace.calculators import mace_mp, MACECalculator\n",
    "\n",
    "\n",
    "#MACE-MP-0 calculator parameters\n",
    "\n",
    "model = 'small' # defines the MACE-MP-0 model that is to be used small, medium or large\n",
    "device = 'cpu'  # states what to use for calculation cpu or gpu\n",
    "default_dtype = 'float32' # defines the dtype for the calculation float32 or float64. \n",
    "                          # float32 is less accurate but faster\n",
    "\n",
    "\n",
    "\n",
    "calc = mace_mp(model=model, device=device, default_dtype=default_dtype)"
   ]
  },
  {
   "cell_type": "markdown",
   "id": "88a00099",
   "metadata": {},
   "source": [
    "# 1.3) Nose-Hoover NVT Molecular Dynamics\n",
    "We can then attach this calculator to our structure and run some NVT MD. In the provided program, only Nose-Hoover NVT is supported and all parameters are representative of this choice. The provided program exploits ASE's Nose-Hoover implementation which is actually an ASE NPT model that has the barostat disabled. The program disables this by default but this can be modified, and NPT dynamics run by modifying the mace_nvt.py file to include a barostat."
   ]
  },
  {
   "cell_type": "code",
   "execution_count": 16,
   "id": "b41e81d7",
   "metadata": {},
   "outputs": [
    {
     "name": "stderr",
     "output_type": "stream",
     "text": [
      "WARNING: NPT: Setting the center-of-mass momentum to zero (was -9.37012 7.59435 6.61434)\n"
     ]
    }
   ],
   "source": [
    "g_li3ps4.calc = calc\n",
    "\n",
    "\n",
    "# NVT molecular dynamics input parameters\n",
    "temp = 800 # temperature to run the MD at\n",
    "ts = 2*units.fs # timestep of the MD\n",
    "tts = 80*units.fs # characteristic timestep of the thermostast, a good value is 40*time step\n",
    "step = 10 # number of MD steps to simulate\n",
    "\n",
    "\n",
    "\n",
    "\n",
    "# defines file to save the trajectory, time, and temperature too\n",
    "temp_arr = []\n",
    "time_arr = []\n",
    "\n",
    "def write_frame():\n",
    "    dyn.atoms.write('test_mace_md.xyz', append=True)\n",
    "    time_arr.append(dyn.get_time())\n",
    "    temp_arr.append(dyn.atoms.get_temperature())\n",
    "## initialise the MD\n",
    "MaxwellBoltzmannDistribution(g_li3ps4, temperature_K=temp)\n",
    "dyn = NPT(g_li3ps4, externalstress=1., timestep =ts, ttime=tts, temperature_K=temp)\n",
    "dyn.attach(write_frame, interval=1)\n",
    "\n",
    "## run MD\n",
    "dyn.run(int(step))\n",
    "\n",
    "f = open('test_mace_md_temp.txt', 'w')\n",
    "\n",
    "for i in range(len(temp_arr)):\n",
    "    f.write(str(time_arr[i]) + ' ' + str(temp_arr[i]) + '\\n')\n",
    "f.close()\n",
    "\n",
    "\n"
   ]
  },
  {
   "cell_type": "markdown",
   "id": "13199f48",
   "metadata": {},
   "source": [
    "# 1.4) Diffusion constant\n",
    "From this MD, we can then extract a diffusion constant. This is done by calculating the Mean Square Displacement and then the gradient of the resulting plot. This value is what we will later plot and calculate"
   ]
  },
  {
   "cell_type": "code",
   "execution_count": 18,
   "id": "4381f6c3",
   "metadata": {},
   "outputs": [
    {
     "name": "stdout",
     "output_type": "stream",
     "text": [
      "The diffusion coefficient at 800 K was: 2.369005451245663e-05 cm^2/S\n"
     ]
    }
   ],
   "source": [
    "trajectory = read('test_mace_md.xyz', index = ':')\n",
    "ts = 2*units.fs # timestep of the MD\n",
    "atom = 'Li' # atom to calculate the diffusion constant for\n",
    "start = 0 # which frame of the trajectory to start calcualting from, can be used to ignore the initial equilibration\n",
    "diffusion_coeff = diff.get_diffusion_coeff(trajectory, timestep=ts, atom=atom, start=start)\n",
    "print('The diffusion coefficient at',temp,'K was:', diffusion_coeff,'cm^2/S')"
   ]
  },
  {
   "cell_type": "markdown",
   "id": "465c3dc4",
   "metadata": {},
   "source": [
    "# 2) Diff_Coeff\n",
    "In this next section, you will use the diff_coeff.py file that is found in utils to run MD using MACE-MP-0. The aim is to run it for multiple temperatures with multiple repeats at each temperature. This will allow us to calculate an average temperature, with errors, and extrapolate to a room temperature diffusion constant, while proppogating the errors."
   ]
  },
  {
   "cell_type": "markdown",
   "id": "f0c193b2",
   "metadata": {},
   "source": [
    "# 2.1 Basic Script\n",
    "The first place to start is the diffusion_plot() function found in diff_\n",
    "This function automates the running, caclculation and extrapolation of dissplacement constants and serves as an example of how to set up the system."
   ]
  },
  {
   "cell_type": "code",
   "execution_count": 16,
   "id": "bca9315b",
   "metadata": {},
   "outputs": [],
   "source": [
    "def diffusion_plot(structure_file,temp_arr=[525], repeats=5, ts=2*units.fs, tts=80*units.fs, step=100, atom='Li', start=0, model='medium', floats='float32'):\n",
    "    #set up and run the md, in this case the paralel cpu implementation\n",
    "    diff.run_md_bash(structure, temp_arr, repeats, ts, tts, step, model, floats)\n",
    "    \n",
    "    #read in the diffusion coefficients from the generated files\n",
    "    dict_diff_coeff = diff.extract_diff_coeff(temp_arr, repeats, atom, start, ts)\n",
    "    \n",
    "    #plot the diffusion constants and extract the coefficients, covarience \n",
    "    coefficients,cov = diff.plot_average_diff_coeff(dict_diff_coeff)\n",
    "    return coefficients, dict_diff_coeff,cov\n"
   ]
  },
  {
   "cell_type": "code",
   "execution_count": 17,
   "id": "bc649dec",
   "metadata": {},
   "outputs": [
    {
     "data": {
      "image/png": "[encoded data removed]",
      "text/plain": [
       "<Figure size 432x288 with 1 Axes>"
      ]
     },
     "metadata": {
      "needs_background": "light"
     },
     "output_type": "display_data"
    },
    {
     "name": "stdout",
     "output_type": "stream",
     "text": [
      "The estimated room temperature difussion coefficient  -0.000133842935341531  +-  4.416738857642066e-05  cm2/s\n"
     ]
    }
   ],
   "source": [
    "coefficients,dict_diff_coeff,cov = diff.diffusion_plot(\n",
    "    structure_file='g_li3ps4.xyz',\n",
    "    temp_arr=[800,1000,1200], \n",
    "    repeats=5, \n",
    "    ts=2*units.fs, \n",
    "    tts=80*units.fs, \n",
    "    step=10, \n",
    "    atom='Li', \n",
    "    start=0, \n",
    "    model='small', \n",
    "    floats='float32',\n",
    "    device='cpu'\n",
    "    )\n",
    "\n",
    "room_diff_coeff,err = diff.room_temp_diff_coeff(coefficients, cov ,300)\n",
    "print('The estimated room temperature difussion coefficient ', room_diff_coeff,' +- ',err,' cm2/s')"
   ]
  },
  {
   "cell_type": "markdown",
   "id": "7b74bcad",
   "metadata": {},
   "source": [
    "when defining your diffusion plot function there are some options.\n",
    "the first of this is how you run the MD\n",
    "you have an option of run_md_bash or run_md. the run md option will simply run the vairous temperatures and repeats sequentially, this is good for GPUs where the calculations will use the whole GPU and will run faster. run_md_bash works by first making a bash script that attempts to launch all temperature and repeats at the same time. This is well suited to cpu where MACE can only use one core, this in effect allows us to parallelise calculations\n",
    "\n",
    "\n",
    "following this, we also have a choice in what you wish to plot, the choice here is between plot_average_diff_coeff and plot_diff_coeff. plot_diff_coeff will plot all calculated diffusion constants, and plot_average_diff_coeff will plot the average diffusion constant at a given temperature. Both will calculate a line of best fit and output the coefficients and the covariance matrix."
   ]
  },
  {
   "cell_type": "markdown",
   "id": "0d7a59b9",
   "metadata": {},
   "source": [
    "feel free to play around with some of the parameters but keep in mind that making the models larger will make them more expensive. another consideration for evaluation for evaluation on hetmathsys is that there are only 40 cores available, as such the length of your temperature array * the number of repitions should ideally be below 40 as the runs will be launched at the same time and will each require 1 cpu. In the case that you want to do more than 40 total calculations this is possible by splitting up the calculations like shown below"
   ]
  },
  {
   "cell_type": "code",
   "execution_count": null,
   "id": "6da47e44",
   "metadata": {},
   "outputs": [],
   "source": [
    "structure_file='g_li3ps4.xyz'\n",
    "repeats=10\n",
    "ts=2*units.fs\n",
    "tts=80*units.fs \n",
    "step=10\n",
    "atom='Li'\n",
    "start=0\n",
    "model='small'\n",
    "floats='float32'\n",
    "device='cpu'\n",
    "\n",
    "\n",
    "\n",
    "#set up and run the md, in this case the paralel cpu implementation\n",
    "\n",
    "temp_arr=[100,200,300,400]\n",
    "diff.run_md_bash(structure_file, temp_arr, repeats, ts, tts, step, model, floats, device)\n",
    "\n",
    "temp_arr=[500,600,700,800]\n",
    "diff.run_md_bash(structure_file, temp_arr, repeats, ts, tts, step, model, floats, device)\n",
    "\n",
    "\n",
    "\n",
    "#read in the diffusion coefficients from the generated files\n",
    "temp_arr=[100,200,300,400,500,600,700,800]\n",
    "dict_diff_coeff = diff.extract_diff_coeff(temp_arr, repeats, atom, start, ts)\n",
    "\n",
    "#plot the diffusion constants and extract the coefficients, covarience \n",
    "coefficients,cov = diff.plot_average_diff_coeff(dict_diff_coeff)\n",
    "\n",
    "room_diff_coeff,err = diff.room_temp_diff_coeff(coefficients, cov ,300)\n",
    "print('The estimated room temperature difussion coefficient ', room_diff_coeff,' +- ',err,' cm2/s')"
   ]
  },
  {
   "cell_type": "markdown",
   "id": "18faab3c",
   "metadata": {},
   "source": [
    "you can see above that for the calculations we can give multiple sets of arrays to each run, and combine the temperature arrays when we come to extracting the coefficients. this is because when the MD is run, it is saved to a file name including the temperature and repetition. For this to work you need to ensure number of repitions is consistent in each run. note that running the simulation again will overwrite the saved files."
   ]
  },
  {
   "cell_type": "markdown",
   "id": "c58af70a",
   "metadata": {},
   "source": [
    "Finally for the reproducible result, you are welcome to experiment with some parameters, you should do 1 production run at 800K,1000K,1200K and 1400K. using 5 repitions. from this you should plot the graph of the diffusion constants and extract the diffusion constant at 300K compare this to a precalculated value of ----"
   ]
  },
  {
   "cell_type": "code",
   "execution_count": null,
   "id": "a812e2d2",
   "metadata": {},
   "outputs": [],
   "source": [
    "coefficients,dict_diff_coeff,cov = diff.diffusion_plot(\n",
    "    structure_file='g_li3ps4.xyz',\n",
    "    temp_arr=[800,1000,1200,1400], \n",
    "    repeats=5, \n",
    "    ts=2*units.fs, \n",
    "    tts=80*units.fs, \n",
    "    step=10000, \n",
    "    atom='Li', \n",
    "    start=0, \n",
    "    model='medium', \n",
    "    floats='float32',\n",
    "    device='cpu'\n",
    "    )\n",
    "\n",
    "room_diff_coeff,err = diff.room_temp_diff_coeff(coefficients, cov ,300)\n",
    "print('The estimated room temperature difussion coefficient ', room_diff_coeff,' +- ',err,' cm2/s')"
   ]
  },
  {
   "cell_type": "markdown",
   "id": "072fafce",
   "metadata": {},
   "source": [
    "In the case that your calculations have already run and you wish to avoid rerunning use the following cells"
   ]
  },
  {
   "cell_type": "code",
   "execution_count": 5,
   "id": "ace0a023",
   "metadata": {},
   "outputs": [],
   "source": [
    "# same parameters as above\n",
    "structure_file='g_li3ps4.xyz'\n",
    "temp_arr=[800,1000,1200,1400]\n",
    "repeats=5\n",
    "ts=2*units.fs \n",
    "tts=80*units.fs \n",
    "step=10000\n",
    "atom='Li' \n",
    "start=0\n",
    "model='medium' \n",
    "floats='float32'\n",
    "device='cpu'\n",
    "\n",
    "#read in the diffusion coefficients from the generated files\n",
    "dict_diff_coeff = diff.extract_diff_coeff(temp_arr, repeats, atom, start, ts)"
   ]
  },
  {
   "cell_type": "code",
   "execution_count": 6,
   "id": "bc6bf89e",
   "metadata": {},
   "outputs": [
    {
     "data": {
      "image/png": "[encoded data removed]",
      "text/plain": [
       "<Figure size 432x288 with 1 Axes>"
      ]
     },
     "metadata": {
      "needs_background": "light"
     },
     "output_type": "display_data"
    },
    {
     "name": "stdout",
     "output_type": "stream",
     "text": [
      "The estimated room temperature difussion coefficient  -4.7295302687762855e-05  +-  9.946630496785827e-06  cm2/s\n"
     ]
    }
   ],
   "source": [
    "#plot the diffusion constants and extract the coefficients, covarience\n",
    "#this plot takes an average value at each temperatue and plots the standard deviation as the error bars\n",
    "coefficients,cov = diff.plot_average_diff_coeff(dict_diff_coeff)\n",
    "\n",
    "#extract the room temperature diffusion coefficient\n",
    "room_diff_coeff,err = diff.room_temp_diff_coeff(coefficients, cov ,300)\n",
    "print('The estimated room temperature difussion coefficient ', room_diff_coeff,' +- ',err,' cm2/s')"
   ]
  },
  {
   "cell_type": "code",
   "execution_count": 7,
   "id": "e09ba70e",
   "metadata": {},
   "outputs": [
    {
     "name": "stdout",
     "output_type": "stream",
     "text": [
      "[-2.44422848e-05  3.41789801e-05] [[ 8.62987235e-12 -8.19324191e-12]\n",
      " [-8.19324191e-12  8.12750273e-12]]\n"
     ]
    },
    {
     "data": {
      "image/png": "[encoded data removed]",
      "text/plain": [
       "<Figure size 432x288 with 1 Axes>"
      ]
     },
     "metadata": {
      "needs_background": "light"
     },
     "output_type": "display_data"
    },
    {
     "name": "stdout",
     "output_type": "stream",
     "text": [
      "The estimated room temperature difussion coefficient  -4.7295302687762855e-05  +-  9.946630496785827e-06  cm2/s\n"
     ]
    }
   ],
   "source": [
    "#plot the diffusion constants and extract the coefficients, covarience\n",
    "#this plot shows all calcualted diffusion constants\n",
    "coefficients,cov = diff.plot_diff_coeff(dict_diff_coeff)\n",
    "\n",
    "#extract the room temperature diffusion coefficient\n",
    "room_diff_coeff,err = diff.room_temp_diff_coeff(coefficients, cov ,300)\n",
    "print('The estimated room temperature difussion coefficient ', room_diff_coeff,' +- ',err,' cm2/s')"
   ]
  },
  {
   "cell_type": "markdown",
   "id": "ebb875ac",
   "metadata": {},
   "source": [
    "The estimated room temperature difussion coefficient  -4.7597e-05 cm^2/S  +-  1.0264e-05  cm^2/s\n",
    "\n",
    "\n",
    "You can see that the error on this is quite high, this could be improved with more repeats, a larger MACE-MP-0 model and longer trajectories. However it also shows MACE-MP-0s main limitation where the training set has no data on structures at non 0K temperatures and as such we do not expect it to perform perfectly.\n",
    "\n",
    "The experimental value that is quoted is typically on the 10^-7 order of magnitude. While we can see that we are not miles away we are certainly not close to that and MACE-MP-0 predicts higher mobility of the Lithium ions.\n",
    "\n",
    "Finally, this shows that despite limitations in the data set, it is remarkably stable. It also shows that for accurate results, this foundation model will need to be fine tuned to get more accurate results."
   ]
  },
  {
   "cell_type": "code",
   "execution_count": null,
   "id": "a81f5e40",
   "metadata": {},
   "outputs": [],
   "source": []
  },
  {
   "cell_type": "code",
   "execution_count": null,
   "id": "9284f338",
   "metadata": {},
   "outputs": [],
   "source": []
  }
 ],
 "metadata": {
  "kernelspec": {
   "display_name": "Python 3 (ipykernel)",
   "language": "python",
   "name": "python3"
  },
  "language_info": {
   "codemirror_mode": {
    "name": "ipython",
    "version": 3
   },
   "file_extension": ".py",
   "mimetype": "text/x-python",
   "name": "python",
   "nbconvert_exporter": "python",
   "pygments_lexer": "ipython3",
   "version": "3.10.4"
  }
 },
 "nbformat": 4,
 "nbformat_minor": 5
}
