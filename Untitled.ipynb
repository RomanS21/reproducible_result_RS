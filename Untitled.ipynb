{
 "cells": [
  {
   "cell_type": "code",
   "execution_count": 1,
   "id": "9bc9d9d9",
   "metadata": {},
   "outputs": [],
   "source": [
    "from ase.io import read, write \n",
    "from ase import atoms \n",
    "from ase.io.vasp import read_vasp\n",
    "from ase.visualize import view\n",
    "from ase.md.velocitydistribution import MaxwellBoltzmannDistribution\n",
    "import random\n",
    "import numpy as np\n",
    "from ase.md import MDLogger\n",
    "from ase.md.npt import NPT\n",
    "from ase import units\n",
    "from mace.calculators import mace_mp\n",
    "from tqdm import tqdm\n",
    "from ase.md.analysis import DiffusionCoefficient\n",
    "import os\n",
    "import matplotlib.pyplot as plt"
   ]
  },
  {
   "cell_type": "code",
   "execution_count": 8,
   "id": "cb36f24f",
   "metadata": {},
   "outputs": [],
   "source": [
    "import utils.diff_coeff as diff"
   ]
  },
  {
   "cell_type": "markdown",
   "id": "da98bcd2",
   "metadata": {},
   "source": [
    "In this notebook"
   ]
  },
  {
   "cell_type": "markdown",
   "id": "6c80a2cd",
   "metadata": {},
   "source": [
    "lets first begin by visualising the g-Li3PS4 structure"
   ]
  },
  {
   "cell_type": "markdown",
   "id": "dab69033",
   "metadata": {},
   "source": [
    "next we will initialise the MACE-MP0-0 calculator that is available within ASE"
   ]
  },
  {
   "cell_type": "markdown",
   "id": "88a00099",
   "metadata": {},
   "source": [
    "We can then attach this to our structure and run some NVT MD"
   ]
  },
  {
   "cell_type": "markdown",
   "id": "13199f48",
   "metadata": {},
   "source": [
    "from this MD we can then extract a diffusion constant "
   ]
  },
  {
   "cell_type": "markdown",
   "id": "465c3dc4",
   "metadata": {},
   "source": [
    "In this next section, you will use the diff_coeff file that is found in utils to run MD using MACE-MP-0. The aim is to run it for multiple temperatures with multiple repeats at each temperature. This will allow us to calculate an average temperature, with errors, and extrapolate to a room temperature diffusion constant, while proppogating the errors."
   ]
  },
  {
   "cell_type": "markdown",
   "id": "f0c193b2",
   "metadata": {},
   "source": [
    "the first place to start is the diff.diffusion_plot function\n",
    "This function automates the running, caclculation and extrapolation of dissplacement constants and serves as an example of how to set up the system."
   ]
  },
  {
   "cell_type": "code",
   "execution_count": null,
   "id": "bca9315b",
   "metadata": {},
   "outputs": [],
   "source": [
    "def diffusion_plot(structure_file,temp_arr=[525], repeats=5, ts=2*units.fs, tts=80*units.fs, step=100, atom='Li', start=0, model='medium', floats='float32'):\n",
    "    #set up and run the md, in this case the paralel cpu implementation\n",
    "    diff.run_md_bash(structure, temp_arr, repeats, ts, tts, step, model, floats)\n",
    "    \n",
    "    #read in the diffusion coefficients from the generated files\n",
    "    dict_diff_coeff = diff.extract_diff_coeff(temp_arr, repeats, atom, start, ts)\n",
    "    \n",
    "    #plot the diffusion constants and extract the coefficients, covarience \n",
    "    coefficients,cov = diff.plot_average_diff_coeff(dict_diff_coeff)\n",
    "    return coefficients, dict_diff_coeff,cov\n"
   ]
  },
  {
   "cell_type": "code",
   "execution_count": null,
   "id": "bc649dec",
   "metadata": {},
   "outputs": [],
   "source": [
    "coefficients,dict_diff_coeff,cov = diff.diffusion_plot(\n",
    "    structure_file='g_li3ps4.xyz',\n",
    "    temp_arr=[800,1000,1200], \n",
    "    repeats=5, \n",
    "    ts=2*units.fs, \n",
    "    tts=80*units.fs, \n",
    "    step=10, \n",
    "    atom='Li', \n",
    "    start=0, \n",
    "    model='small', \n",
    "    floats='float32',\n",
    "    device='cpu'\n",
    "    )\n",
    "\n",
    "room_diff_coeff,err = diff.room_temp_diff_coeff(coefficients, cov ,300)\n",
    "print('The estimated room temperature difussion coefficient ', room_diff_coeff,' +- ',err,' cm2/s')"
   ]
  },
  {
   "cell_type": "markdown",
   "id": "7b74bcad",
   "metadata": {},
   "source": [
    "when defining your diffusion plot function there are some options.\n",
    "the first of this is how you run the MD\n",
    "you have an option of run_md_bash or run_md. the run md option will simply run the vairous temperatures and repeats sequentially, this is good for GPUs where the calculations will use the whole GPU and will run faster. run_md_bash works by first making a bash script that attempts to launch all temperature and repeats at the same time. This is well suited to cpu where MACE can only use one core, this in effect allows us to parallelise calculations\n",
    "\n",
    "\n",
    "following this, we also have a choice in what you wish to plot, the choice here is between plot_average_diff_coeff and plot_diff_coeff. plot_diff_coeff will plot all calculated diffusion constants, and plot_average_diff_coeff will plot the average diffusion constant at a given temperature. Both will calculate a line of best fit and output the coefficients and the covariance matrix."
   ]
  },
  {
   "cell_type": "markdown",
   "id": "0d7a59b9",
   "metadata": {},
   "source": [
    "feel free to play around with some of the parameters but keep in mind that making the models larger will make them more expensive. another consideration for evaluation for evaluation on hetmathsys is that there are only 40 cores available, as such the length of your temperature array * the number of repitions should ideally be below 40 as the runs will be launched at the same time and will each require 1 cpu. In the case that you want to do more than 40 total calculations this is possible by splitting up the calculations like shown below"
   ]
  },
  {
   "cell_type": "code",
   "execution_count": null,
   "id": "6da47e44",
   "metadata": {},
   "outputs": [],
   "source": [
    "structure_file='g_li3ps4.xyz'\n",
    "repeats=10\n",
    "ts=2*units.fs\n",
    "tts=80*units.fs \n",
    "step=10\n",
    "atom='Li'\n",
    "start=0\n",
    "model='small'\n",
    "floats='float32'\n",
    "device='cpu'\n",
    "\n",
    "\n",
    "\n",
    "#set up and run the md, in this case the paralel cpu implementation\n",
    "\n",
    "temp_arr=[100,200,300,400]\n",
    "diff.run_md_bash(structure_file, temp_arr, repeats, ts, tts, step, model, floats, device)\n",
    "\n",
    "temp_arr=[500,600,700,800]\n",
    "diff.run_md_bash(structure_file, temp_arr, repeats, ts, tts, step, model, floats, device)\n",
    "\n",
    "\n",
    "\n",
    "#read in the diffusion coefficients from the generated files\n",
    "temp_arr=[100,200,300,400,500,600,700,800]\n",
    "dict_diff_coeff = diff.extract_diff_coeff(temp_arr, repeats, atom, start, ts)\n",
    "\n",
    "#plot the diffusion constants and extract the coefficients, covarience \n",
    "coefficients,cov = diff.plot_average_diff_coeff(dict_diff_coeff)\n",
    "\n",
    "room_diff_coeff,err = diff.room_temp_diff_coeff(coefficients, cov ,300)\n",
    "print('The estimated room temperature difussion coefficient ', room_diff_coeff,' +- ',err,' cm2/s')"
   ]
  },
  {
   "cell_type": "markdown",
   "id": "18faab3c",
   "metadata": {},
   "source": [
    "you can see above that for the calculations we can give multiple sets of arrays to each run, and combine the temperature arrays when we come to extracting the coefficients. this is because when the MD is run, it is saved to a file name including the temperature and repetition. For this to work you need to ensure number of repitions is consistent in each run. note that running the simulation again will overwrite the saved files."
   ]
  },
  {
   "cell_type": "markdown",
   "id": "c58af70a",
   "metadata": {},
   "source": [
    "Finally for the reproducible result, you are welcome to experiment with some parameters, you should do 1 production run at 800K,1000K,1200K and 1400K. using 5 repitions. from this you should plot the graph of the diffusion constants and extract the diffusion constant at 300K compare this to a precalculated value of ----"
   ]
  },
  {
   "cell_type": "code",
   "execution_count": null,
   "id": "a812e2d2",
   "metadata": {},
   "outputs": [],
   "source": [
    "coefficients,dict_diff_coeff,cov = diff.diffusion_plot(\n",
    "    structure_file='g_li3ps4.xyz',\n",
    "    temp_arr=[800,1000,1200,1400], \n",
    "    repeats=5, \n",
    "    ts=2*units.fs, \n",
    "    tts=80*units.fs, \n",
    "    step=10000, \n",
    "    atom='Li', \n",
    "    start=0, \n",
    "    model='medium', \n",
    "    floats='float32',\n",
    "    device='cpu'\n",
    "    )\n",
    "\n",
    "room_diff_coeff,err = diff.room_temp_diff_coeff(coefficients, cov ,300)\n",
    "print('The estimated room temperature difussion coefficient ', room_diff_coeff,' +- ',err,' cm2/s')"
   ]
  },
  {
   "cell_type": "code",
   "execution_count": 3,
   "id": "bc6bf89e",
   "metadata": {},
   "outputs": [
    {
     "data": {
      "image/png": "[encoded data removed]",
      "text/plain": [
       "<Figure size 432x288 with 1 Axes>"
      ]
     },
     "metadata": {
      "needs_background": "light"
     },
     "output_type": "display_data"
    },
    {
     "name": "stdout",
     "output_type": "stream",
     "text": [
      "The estimated room temperature difussion coefficient  -4.759654722236029e-05  +-  1.0264287751301762e-05  cm2/s\n"
     ]
    }
   ],
   "source": [
    "structure_file='g_li3ps4.xyz'\n",
    "temp_arr=[800,1000,1200,1400]\n",
    "repeats=5\n",
    "ts=2*units.fs \n",
    "tts=80*units.fs \n",
    "step=10000\n",
    "atom='Li' \n",
    "start=0\n",
    "model='medium' \n",
    "floats='float32'\n",
    "device='cpu'\n",
    "\n",
    "#read in the diffusion coefficients from the generated files\n",
    "dict_diff_coeff = diff.extract_diff_coeff(temp_arr, repeats, atom, start, ts)\n",
    "\n",
    "#plot the diffusion constants and extract the coefficients, covarience \n",
    "coefficients,cov = diff.plot_average_diff_coeff(dict_diff_coeff)\n",
    "\n",
    "\n",
    "room_diff_coeff,err = diff.room_temp_diff_coeff(coefficients, cov ,300)\n",
    "print('The estimated room temperature difussion coefficient ', room_diff_coeff,' +- ',err,' cm2/s')"
   ]
  },
  {
   "cell_type": "code",
   "execution_count": 7,
   "id": "e09ba70e",
   "metadata": {},
   "outputs": [
    {
     "data": {
      "image/png": "[encoded data removed]",
      "text/plain": [
       "<Figure size 432x288 with 1 Axes>"
      ]
     },
     "metadata": {
      "needs_background": "light"
     },
     "output_type": "display_data"
    },
    {
     "name": "stdout",
     "output_type": "stream",
     "text": [
      "[-2.46800527e-05  3.46702951e-05] [[ 9.18988422e-12 -8.72491984e-12]\n",
      " [-8.72491984e-12  8.65491469e-12]]\n",
      "The estimated room temperature difussion coefficient  -4.759654722236029e-05  +-  1.0264287751301762e-05  cm2/s\n"
     ]
    }
   ],
   "source": [
    "coefficients,cov = diff.plot_average_diff_coeff(dict_diff_coeff)\n",
    "print(coefficients,cov)\n",
    "\n",
    "room_diff_coeff,err = diff.room_temp_diff_coeff(coefficients, cov ,300)\n",
    "print('The estimated room temperature difussion coefficient ', room_diff_coeff,' +- ',err,' cm2/s')"
   ]
  },
  {
   "cell_type": "markdown",
   "id": "ebb875ac",
   "metadata": {},
   "source": [
    "The estimated room temperature difussion coefficient  -4.7596547222360344e-05  +-  9.378795746619728e-06  cm2/s"
   ]
  },
  {
   "cell_type": "code",
   "execution_count": 5,
   "id": "a81f5e40",
   "metadata": {},
   "outputs": [
    {
     "name": "stdout",
     "output_type": "stream",
     "text": [
      "[-2.46800527e-05  3.46702951e-05] [[ 9.18988422e-12 -8.72491984e-12]\n",
      " [-8.72491984e-12  8.65491469e-12]]\n"
     ]
    },
    {
     "data": {
      "image/png": "[encoded data removed]",
      "text/plain": [
       "<Figure size 432x288 with 1 Axes>"
      ]
     },
     "metadata": {
      "needs_background": "light"
     },
     "output_type": "display_data"
    },
    {
     "name": "stdout",
     "output_type": "stream",
     "text": [
      "The estimated room temperature difussion coefficient  -4.759654722236029e-05  +-  1.0264287751301762e-05  cm2/s\n"
     ]
    }
   ],
   "source": [
    "#plot the diffusion constants and extract the coefficients, covarience \n",
    "coefficients,cov = diff.plot_diff_coeff(dict_diff_coeff)\n",
    "\n",
    "\n",
    "room_diff_coeff,err = diff.room_temp_diff_coeff(coefficients, cov ,300)\n",
    "print('The estimated room temperature difussion coefficient ', room_diff_coeff,' +- ',err,' cm2/s')"
   ]
  },
  {
   "cell_type": "code",
   "execution_count": null,
   "id": "9284f338",
   "metadata": {},
   "outputs": [],
   "source": []
  }
 ],
 "metadata": {
  "kernelspec": {
   "display_name": "Python 3 (ipykernel)",
   "language": "python",
   "name": "python3"
  },
  "language_info": {
   "codemirror_mode": {
    "name": "ipython",
    "version": 3
   },
   "file_extension": ".py",
   "mimetype": "text/x-python",
   "name": "python",
   "nbconvert_exporter": "python",
   "pygments_lexer": "ipython3",
   "version": "3.10.4"
  }
 },
 "nbformat": 4,
 "nbformat_minor": 5
}
